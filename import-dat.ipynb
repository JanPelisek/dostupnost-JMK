{
  "cells": [
    {
      "cell_type": "code",
      "execution_count": 1,
      "metadata": {
        "id": "bi0-TAiWY0Ym"
      },
      "outputs": [],
      "source": [
        "import pandas as pd\n",
        "import json\n",
        "import zipfile\n",
        "import os\n",
        "# test collab commit"
      ]
    },
    {
      "cell_type": "code",
      "execution_count": null,
      "metadata": {
        "id": "P7Itmb1OY0Yn"
      },
      "outputs": [],
      "source": [
        "with open('Data_sources/stops_3349896397534691836.geojson',\"r\", encoding=\"utf-8\") as f:\n",
        "    data = json.load(f)\n",
        "\n",
        "stops = []\n",
        "for feature in data[\"features\"]:\n",
        "    props = feature[\"properties\"]\n",
        "    coords = feature[\"geometry\"][\"coordinates\"]\n",
        "    stops.append({\n",
        "        \"stop_id\": props[\"stop_id\"],\n",
        "        \"stop_name\": props[\"stop_name\"],\n",
        "        \"latitude\": coords[1],\n",
        "        \"longitude\": coords[0],\n",
        "        \"zone_id\": props[\"zone_id\"],\n",
        "        \"wheelchair_boarding\": props[\"wheelchair_boarding\"]\n",
        "    })\n",
        "\n",
        "zastavky_mhd = pd.DataFrame(stops)\n",
        "\n",
        "zastavky_mhd.to_csv('Data/zastavky_mhd.csv', index=False)"
      ]
    },
    {
      "cell_type": "code",
      "execution_count": null,
      "metadata": {
        "id": "1lwXJXtYY0Yo"
      },
      "outputs": [],
      "source": [
        "with open('Data_sources/Polohy_vozidel_hromadn%C3%A9_dopravy___Public_transit_positional_data.geojson',\"r\", encoding=\"utf-8\") as f:\n",
        "    data = json.load(f)\n",
        "\n",
        "vehicles = []\n",
        "for feature in data[\"features\"]:\n",
        "    props = feature[\"properties\"]\n",
        "    coords = feature[\"geometry\"][\"coordinates\"]\n",
        "    vehicles.append({\n",
        "        \"id\": props[\"id\"],\n",
        "        \"line\": props[\"linename\"],\n",
        "        \"route_id\": props[\"routeid\"],\n",
        "        \"vehicle_type\": props[\"vtype\"],\n",
        "        \"bearing\": props[\"bearing\"],\n",
        "        \"delay\": props[\"delay\"],\n",
        "        \"longitude\": coords[0],\n",
        "        \"latitude\": coords[1],\n",
        "        \"last_update\": props[\"lastupdate\"]\n",
        "    })\n",
        "\n",
        "polohy_vozidel = pd.DataFrame(vehicles)\n",
        "\n",
        "polohy_vozidel.to_csv('Data/polohy_vozidel.csv', index=False)"
      ]
    },
    {
      "cell_type": "code",
      "execution_count": null,
      "metadata": {
        "id": "S_qD3uZWY0Yo"
      },
      "outputs": [],
      "source": [
        "with open('Data_sources/Trasy_linek_IDS_JMK___Public_transport_routes.geojson',\"r\", encoding=\"utf-8\") as f:\n",
        "    data = json.load(f)\n",
        "\n",
        "routes = []\n",
        "for feature in data[\"features\"]:\n",
        "    props = feature[\"properties\"]\n",
        "    for line in feature[\"geometry\"][\"coordinates\"]:\n",
        "        for coord in line:\n",
        "            routes.append({\n",
        "                \"route_id\": props[\"objectid\"],\n",
        "                \"longitude\": coord[0],\n",
        "                \"latitude\": coord[1]\n",
        "            })\n",
        "\n",
        "trasy_linek = pd.DataFrame(routes)\n",
        "\n",
        "trasy_linek.to_csv('Data/trasy_linek.csv', index=False)"
      ]
    },
    {
      "cell_type": "code",
      "execution_count": null,
      "metadata": {
        "id": "ug-0I1EKY0Yp",
        "outputId": "2b4f992e-98a6-440d-d4a3-315b65471cdf"
      },
      "outputs": [
        {
          "name": "stdout",
          "output_type": "stream",
          "text": [
            "Dostupné GTFS soubory: ['agency.txt', 'api.txt', 'calendar.txt', 'calendar_dates.txt', 'routes.txt', 'stops.txt', 'stop_times.txt', 'transfers.txt', 'trips.txt']\n",
            "Načteno: agency.txt\n",
            "Načteno: api.txt\n",
            "Načteno: calendar.txt\n",
            "Načteno: calendar_dates.txt\n",
            "Načteno: routes.txt\n",
            "Načteno: stops.txt\n",
            "Načteno: stop_times.txt\n",
            "Načteno: transfers.txt\n",
            "Načteno: trips.txt\n"
          ]
        }
      ],
      "source": [
        "zip_file = \"Data_sources/GTFS.zip\"\n",
        "\n",
        "\n",
        "with zipfile.ZipFile(zip_file, \"r\") as z:\n",
        "    z.extractall(\"gtfs_data\")\n",
        "\n",
        "\n",
        "files = os.listdir(\"gtfs_data\")\n",
        "print(\"Dostupné GTFS soubory:\", files)\n",
        "\n",
        "dfs = {}\n",
        "\n",
        "for file in files:\n",
        "    file_path = os.path.join(\"gtfs_data\", file)\n",
        "    if file.endswith(\".txt\"):  # Ověříme, že jde o textový soubor\n",
        "        try:\n",
        "            dfs[file.replace(\".txt\", \"\")] = pd.read_csv(file_path)\n",
        "            print(f\"Načteno: {file}\")\n",
        "        except Exception as e:\n",
        "            print(f\"Chyba při načítání {file}: {e}\")"
      ]
    },
    {
      "cell_type": "code",
      "execution_count": null,
      "metadata": {
        "id": "OkzuOldaY0Yq",
        "outputId": "9989f1ee-12c0-4a63-9d93-76286570a479"
      },
      "outputs": [
        {
          "name": "stdout",
          "output_type": "stream",
          "text": [
            "📂 Dostupné GTFS soubory: ['agency.txt', 'api.txt', 'calendar.txt', 'calendar_dates.txt', 'routes.txt', 'stops.txt', 'stop_times.txt', 'transfers.txt', 'trips.txt']\n",
            "Exportováno: Data\\agency.csv\n",
            "Exportováno: Data\\api.csv\n",
            "Exportováno: Data\\calendar.csv\n",
            "Exportováno: Data\\calendar_dates.csv\n",
            "Exportováno: Data\\routes.csv\n",
            "Exportováno: Data\\stops.csv\n",
            "Exportováno: Data\\stop_times.csv\n",
            "Exportováno: Data\\transfers.csv\n",
            "Exportováno: Data\\trips.csv\n",
            "\n",
            " Všechny soubory byly úspěšně exportovány do složky 'Data'\n"
          ]
        }
      ],
      "source": [
        "extract_folder = \"Data_sources/gtfs_data\"\n",
        "export_folder = \"Data\"\n",
        "\n",
        "os.makedirs(export_folder, exist_ok=True)\n",
        "\n",
        "with zipfile.ZipFile(zip_file, \"r\") as z:\n",
        "    z.extractall(extract_folder)\n",
        "\n",
        "files = os.listdir(extract_folder)\n",
        "print(\"📂 Dostupné GTFS soubory:\", files)\n",
        "\n",
        "for file in files:\n",
        "    file_path = os.path.join(extract_folder, file)\n",
        "    if file.endswith(\".txt\"):\n",
        "        try:\n",
        "            df = pd.read_csv(file_path)\n",
        "            csv_path = os.path.join(export_folder, file.replace(\".txt\", \".csv\"))\n",
        "            df.to_csv(csv_path, index=False, encoding=\"utf-8\")\n",
        "            print(f\"Exportováno: {csv_path}\")\n",
        "        except Exception as e:\n",
        "            print(f\"Chyba při exportu {file}: {e}\")\n",
        "\n",
        "print(\"\\n Všechny soubory byly úspěšně exportovány do složky 'Data'\")"
      ]
    }
  ],
  "metadata": {
    "kernelspec": {
      "display_name": "Python 3",
      "language": "python",
      "name": "python3"
    },
    "language_info": {
      "codemirror_mode": {
        "name": "ipython",
        "version": 3
      },
      "file_extension": ".py",
      "mimetype": "text/x-python",
      "name": "python",
      "nbconvert_exporter": "python",
      "pygments_lexer": "ipython3",
      "version": "3.12.2"
    },
    "colab": {
      "provenance": []
    }
  },
  "nbformat": 4,
  "nbformat_minor": 0
}